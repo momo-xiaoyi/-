{
 "cells": [
  {
   "cell_type": "code",
   "execution_count": 21,
   "metadata": {},
   "outputs": [
    {
     "name": "stdout",
     "output_type": "stream",
     "text": [
      "[('np.zeros', 16), ('np.digitize', 9), ('np.random.uniform', 8), ('np.array', 7), ('np.random.choice', 7), ('np.nanmax', 7), ('np.nansum', 6), ('np.sum', 6), ('np.nan_to_num', 5), ('np.abs', 5), ('np.random.rand', 5), ('np.linspace', 5), ('np.hstack', 5), ('np.nanargmax', 3), ('np.expand_dims', 3), ('np.stack', 3), ('np.exp', 2), ('np.isnan', 2), ('np.set_printoptions', 2), ('np.argmax', 2), ('np.absolute', 2), ('np.sort', 2), ('np.random.randint', 2)]\n"
     ]
    }
   ],
   "source": [
    "# -*- coding:utf-8 -*-\n",
    "import os\n",
    "import re\n",
    "\n",
    "# root_dir为要读取文件的根目录\n",
    "root_dir = r\"C:\\Users\\ython\\Desktop\\数据处理\\新建文件夹\\program\"\n",
    "\n",
    "d = {}#创建字典\n",
    "# 依次读取根目录下的每一个文件\n",
    "for file in os.listdir(root_dir):\n",
    "    file_name = root_dir + \"\\\\\" + file\n",
    "    filein = open(file_name, \"r\",encoding='UTF-8',errors='ignore')\n",
    "    u=filein.read()\n",
    "    filein.close()\n",
    "    m=re.findall(r'(np\\.[a-zA-Z\\.\\_]+)\\(',u)\n",
    "    #print(m)\n",
    "    if m:#如果list非空\n",
    "        for key in m:\n",
    "            if not d.__contains__(key):\n",
    "                d[key]=1\n",
    "            d[key]+=1\n",
    "a = sorted(d.items(), key=lambda x: x[1], reverse=True)#reverse表示是否被反转（降序排列）\n",
    "print(a)"
   ]
  }
 ],
 "metadata": {
  "kernelspec": {
   "display_name": "Python 3",
   "language": "python",
   "name": "python3"
  },
  "language_info": {
   "codemirror_mode": {
    "name": "ipython",
    "version": 3
   },
   "file_extension": ".py",
   "mimetype": "text/x-python",
   "name": "python",
   "nbconvert_exporter": "python",
   "pygments_lexer": "ipython3",
   "version": "3.8.5"
  }
 },
 "nbformat": 4,
 "nbformat_minor": 4
}
